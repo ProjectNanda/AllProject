{
 "cells": [
  {
   "cell_type": "markdown",
   "metadata": {},
   "source": [
    "### Video Game Sales (VGSales) Dataset"
   ]
  },
  {
   "cell_type": "code",
   "execution_count": 1,
   "metadata": {},
   "outputs": [],
   "source": [
    "import pandas as pd\n",
    "import numpy as np"
   ]
  },
  {
   "cell_type": "code",
   "execution_count": 3,
   "metadata": {},
   "outputs": [
    {
     "data": {
      "text/html": [
       "<div>\n",
       "<style scoped>\n",
       "    .dataframe tbody tr th:only-of-type {\n",
       "        vertical-align: middle;\n",
       "    }\n",
       "\n",
       "    .dataframe tbody tr th {\n",
       "        vertical-align: top;\n",
       "    }\n",
       "\n",
       "    .dataframe thead th {\n",
       "        text-align: right;\n",
       "    }\n",
       "</style>\n",
       "<table border=\"1\" class=\"dataframe\">\n",
       "  <thead>\n",
       "    <tr style=\"text-align: right;\">\n",
       "      <th></th>\n",
       "      <th>Rank</th>\n",
       "      <th>Name</th>\n",
       "      <th>Platform</th>\n",
       "      <th>Year</th>\n",
       "      <th>Genre</th>\n",
       "      <th>Publisher</th>\n",
       "      <th>NA_Sales</th>\n",
       "      <th>EU_Sales</th>\n",
       "      <th>JP_Sales</th>\n",
       "      <th>Other_Sales</th>\n",
       "      <th>Global_Sales</th>\n",
       "    </tr>\n",
       "  </thead>\n",
       "  <tbody>\n",
       "    <tr>\n",
       "      <th>0</th>\n",
       "      <td>1</td>\n",
       "      <td>Wii Sports</td>\n",
       "      <td>Wii</td>\n",
       "      <td>2006.0</td>\n",
       "      <td>Sports</td>\n",
       "      <td>Nintendo</td>\n",
       "      <td>41.49</td>\n",
       "      <td>29.02</td>\n",
       "      <td>3.77</td>\n",
       "      <td>8.46</td>\n",
       "      <td>82.74</td>\n",
       "    </tr>\n",
       "    <tr>\n",
       "      <th>1</th>\n",
       "      <td>2</td>\n",
       "      <td>Super Mario Bros.</td>\n",
       "      <td>NES</td>\n",
       "      <td>1985.0</td>\n",
       "      <td>Platform</td>\n",
       "      <td>Nintendo</td>\n",
       "      <td>29.08</td>\n",
       "      <td>3.58</td>\n",
       "      <td>6.81</td>\n",
       "      <td>0.77</td>\n",
       "      <td>40.24</td>\n",
       "    </tr>\n",
       "    <tr>\n",
       "      <th>2</th>\n",
       "      <td>3</td>\n",
       "      <td>Mario Kart Wii</td>\n",
       "      <td>Wii</td>\n",
       "      <td>2008.0</td>\n",
       "      <td>Racing</td>\n",
       "      <td>Nintendo</td>\n",
       "      <td>15.85</td>\n",
       "      <td>12.88</td>\n",
       "      <td>3.79</td>\n",
       "      <td>3.31</td>\n",
       "      <td>35.82</td>\n",
       "    </tr>\n",
       "  </tbody>\n",
       "</table>\n",
       "</div>"
      ],
      "text/plain": [
       "   Rank               Name Platform    Year     Genre Publisher  NA_Sales  \\\n",
       "0     1         Wii Sports      Wii  2006.0    Sports  Nintendo     41.49   \n",
       "1     2  Super Mario Bros.      NES  1985.0  Platform  Nintendo     29.08   \n",
       "2     3     Mario Kart Wii      Wii  2008.0    Racing  Nintendo     15.85   \n",
       "\n",
       "   EU_Sales  JP_Sales  Other_Sales  Global_Sales  \n",
       "0     29.02      3.77         8.46         82.74  \n",
       "1      3.58      6.81         0.77         40.24  \n",
       "2     12.88      3.79         3.31         35.82  "
      ]
     },
     "execution_count": 3,
     "metadata": {},
     "output_type": "execute_result"
    }
   ],
   "source": [
    "df=pd.read_csv('vgsales.csv')\n",
    "df.head(3)"
   ]
  },
  {
   "cell_type": "markdown",
   "metadata": {},
   "source": [
    "### 1.1. Main Characteristics of Data Sets\n",
    "1. What is the case? Video game sales\n",
    "2. Identify variables? The variables in the data above are name, platform, year, genre, publisher, Na_Sales, EU_Sales, JP_Sales, Other_Sales, Global_Sales\n",
    "3. Classify each variable as categorical or quantitative? Categorical variables are name, platform, genre, and publisher. While the quantitative variables are year, Na_Sales, EU_Sales, JP_Sales, Other_Sales, Global_Sales\n",
    "4. Use labels and explain how you chose them? The label I use is rank, rank is different from the others, with rank you will find out more quickly the highest video game sales.\n",
    "5. Summarize the main characteristics of your data set! This data set is very complete, and makes it easy to find out the sales of the video game. It has been arranged from rank 1 to last, we know the data such as what year the video game was released and its title and there is still a lot of data that is known above. From this data collection, we know that the video game sales that are in high demand are Wii Sports."
   ]
  },
  {
   "cell_type": "markdown",
   "metadata": {},
   "source": [
    "### 1.2. Data Distribution with Graphs\n",
    "In this Distribution, I only used the top 10 data from the vgsales data set to make it easier to see the graph. Here's the data:"
   ]
  },
  {
   "cell_type": "code",
   "execution_count": 3,
   "metadata": {},
   "outputs": [],
   "source": [
    "import pandas as pd\n",
    "import numpy as np"
   ]
  },
  {
   "cell_type": "code",
   "execution_count": 4,
   "metadata": {},
   "outputs": [
    {
     "data": {
      "text/html": [
       "<div>\n",
       "<style scoped>\n",
       "    .dataframe tbody tr th:only-of-type {\n",
       "        vertical-align: middle;\n",
       "    }\n",
       "\n",
       "    .dataframe tbody tr th {\n",
       "        vertical-align: top;\n",
       "    }\n",
       "\n",
       "    .dataframe thead th {\n",
       "        text-align: right;\n",
       "    }\n",
       "</style>\n",
       "<table border=\"1\" class=\"dataframe\">\n",
       "  <thead>\n",
       "    <tr style=\"text-align: right;\">\n",
       "      <th></th>\n",
       "      <th>Rank</th>\n",
       "      <th>Name</th>\n",
       "      <th>Platform</th>\n",
       "      <th>Year</th>\n",
       "      <th>Genre</th>\n",
       "      <th>Publisher</th>\n",
       "      <th>NA_Sales</th>\n",
       "      <th>EU_Sales</th>\n",
       "      <th>JP_Sales</th>\n",
       "      <th>Other_Sales</th>\n",
       "      <th>Global_Sales</th>\n",
       "    </tr>\n",
       "  </thead>\n",
       "  <tbody>\n",
       "    <tr>\n",
       "      <th>0</th>\n",
       "      <td>1</td>\n",
       "      <td>Wii Sports</td>\n",
       "      <td>Wii</td>\n",
       "      <td>2006</td>\n",
       "      <td>Sports</td>\n",
       "      <td>Nintendo</td>\n",
       "      <td>41.49</td>\n",
       "      <td>29.02</td>\n",
       "      <td>3.77</td>\n",
       "      <td>8.46</td>\n",
       "      <td>82.74</td>\n",
       "    </tr>\n",
       "    <tr>\n",
       "      <th>1</th>\n",
       "      <td>2</td>\n",
       "      <td>Super Mario Bros.</td>\n",
       "      <td>NES</td>\n",
       "      <td>1985</td>\n",
       "      <td>Platform</td>\n",
       "      <td>Nintendo</td>\n",
       "      <td>29.08</td>\n",
       "      <td>3.58</td>\n",
       "      <td>6.81</td>\n",
       "      <td>0.77</td>\n",
       "      <td>40.24</td>\n",
       "    </tr>\n",
       "    <tr>\n",
       "      <th>2</th>\n",
       "      <td>3</td>\n",
       "      <td>Mario Kart Wii</td>\n",
       "      <td>Wii</td>\n",
       "      <td>2008</td>\n",
       "      <td>Racing</td>\n",
       "      <td>Nintendo</td>\n",
       "      <td>15.85</td>\n",
       "      <td>12.88</td>\n",
       "      <td>3.79</td>\n",
       "      <td>3.31</td>\n",
       "      <td>35.82</td>\n",
       "    </tr>\n",
       "    <tr>\n",
       "      <th>3</th>\n",
       "      <td>4</td>\n",
       "      <td>Wii Sports Resort</td>\n",
       "      <td>Wii</td>\n",
       "      <td>2009</td>\n",
       "      <td>Sports</td>\n",
       "      <td>Nintendo</td>\n",
       "      <td>15.75</td>\n",
       "      <td>11.01</td>\n",
       "      <td>3.28</td>\n",
       "      <td>2.96</td>\n",
       "      <td>33.00</td>\n",
       "    </tr>\n",
       "    <tr>\n",
       "      <th>4</th>\n",
       "      <td>5</td>\n",
       "      <td>Pokemon Red/Pokemon Blue</td>\n",
       "      <td>GB</td>\n",
       "      <td>1996</td>\n",
       "      <td>Role-Playing</td>\n",
       "      <td>Nintendo</td>\n",
       "      <td>11.27</td>\n",
       "      <td>8.89</td>\n",
       "      <td>10.22</td>\n",
       "      <td>1.00</td>\n",
       "      <td>31.37</td>\n",
       "    </tr>\n",
       "    <tr>\n",
       "      <th>5</th>\n",
       "      <td>6</td>\n",
       "      <td>Tetris</td>\n",
       "      <td>GB</td>\n",
       "      <td>1989</td>\n",
       "      <td>Puzzle</td>\n",
       "      <td>Nintendo</td>\n",
       "      <td>23.20</td>\n",
       "      <td>2.26</td>\n",
       "      <td>4.22</td>\n",
       "      <td>0.58</td>\n",
       "      <td>30.26</td>\n",
       "    </tr>\n",
       "    <tr>\n",
       "      <th>6</th>\n",
       "      <td>7</td>\n",
       "      <td>New Super Mario Bros.</td>\n",
       "      <td>DS</td>\n",
       "      <td>2006</td>\n",
       "      <td>Platform</td>\n",
       "      <td>Nintendo</td>\n",
       "      <td>11.38</td>\n",
       "      <td>9.23</td>\n",
       "      <td>6.50</td>\n",
       "      <td>2.90</td>\n",
       "      <td>30.01</td>\n",
       "    </tr>\n",
       "    <tr>\n",
       "      <th>7</th>\n",
       "      <td>8</td>\n",
       "      <td>Wii Play</td>\n",
       "      <td>Wii</td>\n",
       "      <td>2006</td>\n",
       "      <td>Misc</td>\n",
       "      <td>Nintendo</td>\n",
       "      <td>14.03</td>\n",
       "      <td>9.20</td>\n",
       "      <td>2.93</td>\n",
       "      <td>2.85</td>\n",
       "      <td>29.02</td>\n",
       "    </tr>\n",
       "    <tr>\n",
       "      <th>8</th>\n",
       "      <td>9</td>\n",
       "      <td>New Super Mario Bros. Wii</td>\n",
       "      <td>Wii</td>\n",
       "      <td>2009</td>\n",
       "      <td>Platform</td>\n",
       "      <td>Nintendo</td>\n",
       "      <td>14.59</td>\n",
       "      <td>7.06</td>\n",
       "      <td>4.70</td>\n",
       "      <td>2.26</td>\n",
       "      <td>28.62</td>\n",
       "    </tr>\n",
       "    <tr>\n",
       "      <th>9</th>\n",
       "      <td>10</td>\n",
       "      <td>Duck Hunt</td>\n",
       "      <td>NES</td>\n",
       "      <td>1984</td>\n",
       "      <td>Shooter</td>\n",
       "      <td>Nintendo</td>\n",
       "      <td>26.93</td>\n",
       "      <td>0.63</td>\n",
       "      <td>0.28</td>\n",
       "      <td>0.47</td>\n",
       "      <td>28.31</td>\n",
       "    </tr>\n",
       "  </tbody>\n",
       "</table>\n",
       "</div>"
      ],
      "text/plain": [
       "   Rank                       Name Platform  Year         Genre Publisher  \\\n",
       "0     1                 Wii Sports      Wii  2006        Sports  Nintendo   \n",
       "1     2          Super Mario Bros.      NES  1985      Platform  Nintendo   \n",
       "2     3             Mario Kart Wii      Wii  2008        Racing  Nintendo   \n",
       "3     4          Wii Sports Resort      Wii  2009        Sports  Nintendo   \n",
       "4     5   Pokemon Red/Pokemon Blue       GB  1996  Role-Playing  Nintendo   \n",
       "5     6                     Tetris       GB  1989        Puzzle  Nintendo   \n",
       "6     7      New Super Mario Bros.       DS  2006      Platform  Nintendo   \n",
       "7     8                   Wii Play      Wii  2006          Misc  Nintendo   \n",
       "8     9  New Super Mario Bros. Wii      Wii  2009      Platform  Nintendo   \n",
       "9    10                  Duck Hunt      NES  1984       Shooter  Nintendo   \n",
       "\n",
       "   NA_Sales  EU_Sales  JP_Sales  Other_Sales  Global_Sales  \n",
       "0     41.49     29.02      3.77         8.46         82.74  \n",
       "1     29.08      3.58      6.81         0.77         40.24  \n",
       "2     15.85     12.88      3.79         3.31         35.82  \n",
       "3     15.75     11.01      3.28         2.96         33.00  \n",
       "4     11.27      8.89     10.22         1.00         31.37  \n",
       "5     23.20      2.26      4.22         0.58         30.26  \n",
       "6     11.38      9.23      6.50         2.90         30.01  \n",
       "7     14.03      9.20      2.93         2.85         29.02  \n",
       "8     14.59      7.06      4.70         2.26         28.62  \n",
       "9     26.93      0.63      0.28         0.47         28.31  "
      ]
     },
     "execution_count": 4,
     "metadata": {},
     "output_type": "execute_result"
    }
   ],
   "source": [
    "df=pd.read_csv('vgsale.csv')\n",
    "df.head(10)"
   ]
  },
  {
   "cell_type": "code",
   "execution_count": 7,
   "metadata": {},
   "outputs": [
    {
     "data": {
      "image/png": "[encoded data removed]",
      "text/plain": [
       "<Figure size 432x288 with 1 Axes>"
      ]
     },
     "metadata": {},
     "output_type": "display_data"
    }
   ],
   "source": [
    "### Using categorical variable data, namely Platform and quantitative NA_Sales \n",
    "### PIE CHART\n",
    "import matplotlib.pyplot as plt\n",
    "Platform = ['WII', 'NES', 'GB', 'DS']\n",
    "NA_Sales = [41, 29, 11, 11]\n",
    "plt.pie(NA_Sales, labels=Platform, autopct='%1.1f%%')\n",
    "plt.show()"
   ]
  },
  {
   "cell_type": "markdown",
   "metadata": {},
   "source": [
    "In the diagram above, using Platform and NA_Sales data. Numbers in NA_Sales are rounded to the nearest tens. For example, GB = 11.27, if rounded it will become 11. So with this pie chart, we can see that each platform has a different percentage. The Wii platform percentage is the largest, and the GB and DS percentages have the same percentage."
   ]
  },
  {
   "cell_type": "code",
   "execution_count": 8,
   "metadata": {},
   "outputs": [
    {
     "data": {
      "image/png": "[encoded data removed]",
      "text/plain": [
       "<Figure size 432x288 with 1 Axes>"
      ]
     },
     "metadata": {
      "needs_background": "light"
     },
     "output_type": "display_data"
    }
   ],
   "source": [
    "### Using categorical variable data, namely Platform and quantitative NA_Sales \n",
    "### BAR GRAPH\n",
    "pos = (1,2,3,4)\n",
    "warna = ('blue','orange','green','red')\n",
    "plt.bar(pos, NA_Sales, color=warna, tick_label=Platform)\n",
    "plt.show()"
   ]
  },
  {
   "cell_type": "markdown",
   "metadata": {},
   "source": [
    "The bar graph above shows Platform and NA_Sales data. The overall pattern is Skewed right, a distribution with fewer observations on the right. Both bar graphs and pie charts have the same results. The Wii platform is still the same and remains the highest while the GB and DS have the same graphics. For bar graphs and pie charts, I prefer to use pie charts for this data because it is easier to see the percentages and can be seen from the shape of the diagram."
   ]
  },
  {
   "cell_type": "code",
   "execution_count": 6,
   "metadata": {},
   "outputs": [
    {
     "data": {
      "text/plain": [
       "(array([3., 3., 0., 1., 0., 2., 0., 0., 0., 1.]),\n",
       " array([11.27 , 14.292, 17.314, 20.336, 23.358, 26.38 , 29.402, 32.424,\n",
       "        35.446, 38.468, 41.49 ]),\n",
       " <a list of 10 Patch objects>)"
      ]
     },
     "execution_count": 6,
     "metadata": {},
     "output_type": "execute_result"
    },
    {
     "data": {
      "image/png": "[encoded data removed]",
      "text/plain": [
       "<Figure size 432x288 with 1 Axes>"
      ]
     },
     "metadata": {
      "needs_background": "light"
     },
     "output_type": "display_data"
    }
   ],
   "source": [
    "### Histogram Uses 1 Quantitative variable, namely NA_Sales\n",
    "plt.hist(df['NA_Sales'])"
   ]
  },
  {
   "cell_type": "markdown",
   "metadata": {},
   "source": [
    "Histogram shows NA_Sales top 10 data on video game sales. It can be seen from the sales figures that the graph is arranged from those with the lowest value to the highest. The overall pattern is non-symmetric, bimodal where the distribution can have few or many peaks. A distribution with one clear peak is called unimodal."
   ]
  },
  {
   "cell_type": "code",
   "execution_count": 7,
   "metadata": {},
   "outputs": [
    {
     "data": {
      "text/plain": [
       "(array([5., 0., 0., 2., 0., 0., 2., 0., 0., 1.]),\n",
       " array([0. , 0.3, 0.6, 0.9, 1.2, 1.5, 1.8, 2.1, 2.4, 2.7, 3. ]),\n",
       " <a list of 10 Patch objects>)"
      ]
     },
     "execution_count": 7,
     "metadata": {},
     "output_type": "execute_result"
    },
    {
     "data": {
      "image/png": "[encoded data removed]",
      "text/plain": [
       "<Figure size 432x288 with 1 Axes>"
      ]
     },
     "metadata": {
      "needs_background": "light"
     },
     "output_type": "display_data"
    }
   ],
   "source": [
    "### Histogram uses 1 categorical variable data, namely Platform\n",
    "plt.hist(df['Platform'])"
   ]
  },
  {
   "cell_type": "markdown",
   "metadata": {},
   "source": [
    "The histogram for this categorical variable data is quite clear. Because in the table above, there are 5 Wii platforms, 2 GB, 2 NES, and 1. This histogram makes it easier to see how many platforms are in the top 10. The overall pattern is also skewed right.\n",
    "\n",
    "Although histograms resemble bar graphs, their details and uses are different. A histogram shows the count or percent distribution among the values of one variable. A bar graph compares the number of different items. The horizontal axis of a bar graph does not need to have a measurement scale but simply identifies the items being compared."
   ]
  },
  {
   "cell_type": "markdown",
   "metadata": {},
   "source": [
    "NA_Sales data uses a Stemplot with the top 10 data and the numbers are rounded to the nearest unit\n",
    "\n",
    "1|1 1 4 5 6 6\n",
    "\n",
    "2|3 7 9\n",
    "\n",
    "4|1"
   ]
  },
  {
   "cell_type": "markdown",
   "metadata": {},
   "source": [
    "#### Examining Overall Distribution Patterns and Deviations\n",
    "Describe the distribution of a quantitative variable using a stem plot or histogram to summarize data graphically and numerically. To describe the overall distribution pattern of a quantitative variable, we describe the shape, center, and spread\n",
    "#### Identify the Shape, Center, and Distribution of Quantitative Variable Distributions\n",
    "The distribution is skewed to the right (positive). Fewer plots of data are found to the right of the graph (towards larger numeric values). The \"tail\" of the graph is pulled towards higher positive numbers, or to the right. The mean is usually drawn towards the tail, and is greater than the median. The central distribution is the mean and median of the data median = 15.8 mean = 20.35. And the distribution distribution is the variance and deviation of data on the platform and NA_Sales rank in the top 10.\n",
    "#### Identifying and Describing Outliers\n",
    "Outliers are observations that lie at an abnormal distance from other values in a random sample of a population. Outliers are observations that are outside the overall distribution pattern. Therefore, the possible outlier from the data above is 41.49"
   ]
  },
  {
   "cell_type": "markdown",
   "metadata": {},
   "source": [
    "### 1.3. Data Distribution with Numbers\n",
    "In the data distribution with these numbers, I use the full vgsales data set and continue to use the NA_Sales data."
   ]
  },
  {
   "cell_type": "code",
   "execution_count": 4,
   "metadata": {},
   "outputs": [
    {
     "name": "stdout",
     "output_type": "stream",
     "text": [
      "Mean:  0.26466742981084057 nMedian:  0.08 nModus:  0.0\n"
     ]
    },
    {
     "data": {
      "image/png": "[encoded data removed]",
      "text/plain": [
       "<Figure size 1080x360 with 1 Axes>"
      ]
     },
     "metadata": {
      "needs_background": "light"
     },
     "output_type": "display_data"
    },
    {
     "name": "stdout",
     "output_type": "stream",
     "text": [
      "Nilai tertinggi:  41.49 nNilai terendah:  0.0 nRange:  41.49 nVarians:  0.6669711703450613\n",
      "Standar deviation of NA_Sales data is 0.8166830292990428\n"
     ]
    }
   ],
   "source": [
    "import numpy as np\n",
    "import pandas as pd\n",
    "import matplotlib.pyplot as plt\n",
    "\n",
    "# mendefinisikan file\n",
    "path=\"vgsales.csv\"\n",
    "df = pd.read_csv(path)\n",
    "\n",
    "# menentukan dataframe\n",
    "NA_Sales = df['NA_Sales']\n",
    "\n",
    "# mencari mean, median dan modus\n",
    "mean = NA_Sales.mean()\n",
    "median = NA_Sales.median()\n",
    "modus = NA_Sales.mode()\n",
    "\n",
    "# menampilkan ukuran nilai tengah\n",
    "print('Mean: ',mean,'nMedian: ',median,'nModus: ',modus[0])\n",
    "\n",
    "# membuat grafik\n",
    "plt.figure(figsize=(15,5))\n",
    "plt.hist(NA_Sales,bins=35,color='grey')\n",
    "plt.axvline(mean,color='red',label='Mean')\n",
    "plt.axvline(median,color='yellow',label='Median')\n",
    "plt.axvline(modus[0],color='green',label='Modus')\n",
    "plt.xlabel('NA_Sales')\n",
    "plt.ylabel('frekuensi')\n",
    "plt.legend()\n",
    "plt.show()\n",
    "\n",
    "# mencari ukuran nilai deviasi\n",
    "maks = NA_Sales.max()\n",
    "minm = NA_Sales.min()\n",
    "jarak = maks - minm\n",
    "varians = NA_Sales.var()\n",
    "\n",
    "# menampilkan ukuran nilai deviasi\n",
    "print('Nilai tertinggi: ',maks,'nNilai terendah: ',minm,'nRange: ',jarak, 'nVarians: ',varians)\n",
    "\n",
    "#menampilkan standar deviasi\n",
    "std = varians**0.5\n",
    "print(\"Standar deviation of NA_Sales data is\" ,std)\n"
   ]
  },
  {
   "cell_type": "code",
   "execution_count": 2,
   "metadata": {},
   "outputs": [
    {
     "data": {
      "text/plain": [
       "0.25    0.00\n",
       "0.50    0.08\n",
       "0.75    0.24\n",
       "Name: NA_Sales, dtype: float64"
      ]
     },
     "execution_count": 2,
     "metadata": {},
     "output_type": "execute_result"
    }
   ],
   "source": [
    "df = pd.read_csv(\"vgsales.csv\")\n",
    "df.NA_Sales.quantile([0.25,0.5,0.75])"
   ]
  },
  {
   "cell_type": "code",
   "execution_count": 7,
   "metadata": {},
   "outputs": [
    {
     "name": "stdout",
     "output_type": "stream",
     "text": [
      "Min of NA_Sales data is  0.0\n",
      "Max of NA_Sales data is  41.49\n"
     ]
    }
   ],
   "source": [
    "print(\"Min of NA_Sales data is \" ,df[\"NA_Sales\"].min())\n",
    "print(\"Max of NA_Sales data is \", df[\"NA_Sales\"].max())"
   ]
  },
  {
   "cell_type": "markdown",
   "metadata": {},
   "source": [
    "So from the coding above we get: Mean = 0.26466742981084057, Median = 0.08, Quartile 1 = 0.00, Quartile 3 = 0.24\n",
    "##### Five number summaries and Boxplots:\n",
    "Min = 0.0\n",
    "\n",
    "Q1 = 0.0\n",
    "\n",
    "M = 0.08\n",
    "\n",
    "Q3 = 0.24\n",
    "\n",
    "Max = 41.49\n",
    "\n",
    "A five-number summary of a series of observations consists of the smallest observations. A box plot is a five-number summary graph.\n",
    "\n",
    "• The center box includes the Q1 and Q3 quartiles\n",
    "\n",
    "• The line in the box marks the median of M\n",
    "\n",
    "• Lines extend from the box outward to the smallest and largest observations. First quartile, median, third quartile, and largest\n",
    "observations, written in order from smallest to largest. Here are the boxplots:"
   ]
  },
  {
   "cell_type": "code",
   "execution_count": 5,
   "metadata": {},
   "outputs": [
    {
     "data": {
      "text/plain": [
       "{'whiskers': [<matplotlib.lines.Line2D at 0x20a5d3c5d00>,\n",
       "  <matplotlib.lines.Line2D at 0x20a5d3ee0a0>],\n",
       " 'caps': [<matplotlib.lines.Line2D at 0x20a5d3ee400>,\n",
       "  <matplotlib.lines.Line2D at 0x20a5d3ee760>],\n",
       " 'boxes': [<matplotlib.lines.Line2D at 0x20a5d3c5940>],\n",
       " 'medians': [<matplotlib.lines.Line2D at 0x20a5d3eeac0>],\n",
       " 'fliers': [<matplotlib.lines.Line2D at 0x20a5d3eedc0>],\n",
       " 'means': []}"
      ]
     },
     "execution_count": 5,
     "metadata": {},
     "output_type": "execute_result"
    },
    {
     "data": {
      "image/png": "[encoded data removed]",
      "text/plain": [
       "<Figure size 432x288 with 1 Axes>"
      ]
     },
     "metadata": {
      "needs_background": "light"
     },
     "output_type": "display_data"
    }
   ],
   "source": [
    "plt.boxplot(df['NA_Sales'])"
   ]
  },
  {
   "cell_type": "markdown",
   "metadata": {},
   "source": [
    "##### 1.5 x IQR rule\n",
    "The interquartile range (IQR) is a measure of variability, based on dividing a data set into quartiles. Quartiles divide a sequential data set into four equal parts. The values into which each part is divided are called the first, second, and third quartiles and are denoted Q1, Q2, and Q3, respectively. IQR is used to determine the range of Q1 and Q3 so that it describes the size of the data spread. RLB and RUB are used to estimate the presence of outliers from the data we have."
   ]
  },
  {
   "cell_type": "code",
   "execution_count": 3,
   "metadata": {},
   "outputs": [
    {
     "name": "stdout",
     "output_type": "stream",
     "text": [
      "IQR of the NA_Sales data is: 0.24\n",
      "RLB of the NA_Sales data is -0.36\n",
      "RUB of the NA_Sales data is 0.6\n"
     ]
    }
   ],
   "source": [
    "IQR = df.NA_Sales.quantile(0.75) - df.NA_Sales.quantile(0.25)\n",
    "print(\"IQR of the NA_Sales data is:\",IQR)\n",
    "\n",
    "RLB = df.NA_Sales.quantile(0.25) - 1.5*IQR\n",
    "print(\"RLB of the NA_Sales data is\", RLB)\n",
    "\n",
    "RUB = df.NA_Sales.quantile(0.75) +1.5*IQR\n",
    "print(\"RUB of the NA_Sales data is\", RUB)"
   ]
  },
  {
   "cell_type": "markdown",
   "metadata": {},
   "source": [
    "So any value below -0.36 or above 0.6 is marked as an outlier."
   ]
  },
  {
   "cell_type": "markdown",
   "metadata": {},
   "source": [
    "##### Standard Deviation\n",
    "- A measure of the dispersion/spread of data in the data scale.\n",
    "- square root of variance.\n",
    "- how far the data is spread from the average (mean).\n",
    "\n",
    "The calculation is already in the coding above, so the standard deviation result for NA_Sales is 0.8166830292990428"
   ]
  },
  {
   "cell_type": "markdown",
   "metadata": {},
   "source": [
    "##### Select Center Size and Spread\n",
    "Median and mean are the most common measures of the center of a distribution. The mean and median of a symmetric distribution are close to each other. A five-number summary is usually better than the mean and standard deviation for describing skewed distributions or distributions with strong outliers. Use x¯ and s for a symmetric distribution that is free from Outliers. That graph provides the best overall picture of a distribution. Numerical measures of center and spread report specific facts about a distribution, but they do not describe its shape."
   ]
  },
  {
   "cell_type": "markdown",
   "metadata": {},
   "source": [
    "### 1.4. Density Curves and Normal Distribution"
   ]
  },
  {
   "cell_type": "markdown",
   "metadata": {},
   "source": [
    "#### Density curves\n",
    "A density curve is a curve that is always on or above the horizontal axis and has an area of exactly 1 below it. Density curves describe the overall pattern of distribution. The area under the curve and above any range of values is the proportion of all observations that fall within that range. Here's the NA_Sales density curve"
   ]
  },
  {
   "cell_type": "code",
   "execution_count": 5,
   "metadata": {},
   "outputs": [
    {
     "data": {
      "text/plain": [
       "<matplotlib.axes._subplots.AxesSubplot at 0x1fc258ecdf0>"
      ]
     },
     "execution_count": 5,
     "metadata": {},
     "output_type": "execute_result"
    },
    {
     "data": {
      "image/png": "[encoded data removed]",
      "text/plain": [
       "<Figure size 360x360 with 1 Axes>"
      ]
     },
     "metadata": {
      "needs_background": "light"
     },
     "output_type": "display_data"
    }
   ],
   "source": [
    "import matplotlib.pyplot as plt\n",
    "plt.figure(figsize=(5,5))\n",
    "df['NA_Sales'].plot(kind='density')"
   ]
  },
  {
   "cell_type": "markdown",
   "metadata": {},
   "source": [
    "Density curves describe the overall pattern of distribution. The area under the curve and above any range of values is the proportion of all observations that fall within that range. Density curves of the appropriate shape are often an adequate description of the overall distribution pattern. Outliers are deviations from the overall pattern, not explained by the curve."
   ]
  },
  {
   "cell_type": "markdown",
   "metadata": {},
   "source": [
    "#### Median dan Rata-Rata Kurva Kepadatan\n",
    "Median kurva kerapatan adalah titik dengan luas yang sama, yaitu titik yang membagi luas di bawah kurva setengah. Rata-rata kurva kepadatan adalah titik keseimbangan, di mana kurva akan seimbang jika terbuat dari bahan padat bahan. Median dan mean sama untuk kurva kerapatan simetris. Keduanya terletak di tengah melengkung. Rerata kurva miring ditarik menjauh dari median ke arah ekor panjang."
   ]
  },
  {
   "cell_type": "code",
   "execution_count": 6,
   "metadata": {},
   "outputs": [
    {
     "data": {
      "image/png": "[encoded data removed]",
      "text/plain": [
       "<Figure size 432x288 with 1 Axes>"
      ]
     },
     "metadata": {
      "needs_background": "light"
     },
     "output_type": "display_data"
    }
   ],
   "source": [
    "import numpy as np\n",
    "import matplotlib.pyplot as plt\n",
    "from scipy.stats import norm\n",
    "\n",
    "x_axis = np.arange (-10, 100, 0.001)\n",
    "# Mean = 0.26466742981084057, SD = 0.8166830292990428\n",
    "plt.plot(x_axis, norm.pdf (x_axis, 0.26466742981084057, 0.8166830292990428))\n",
    "plt.show()"
   ]
  },
  {
   "cell_type": "markdown",
   "metadata": {},
   "source": [
    "The curve above has a straight direction (linear) and is only at position 0 with the mean and median marked. A mode of distribution described by a density curve is the peak point of the curve, the location where the curve is highest. Since the area under the density curve represents a proportion of observations, the median is the point with half the total active area on each side. The mean and median have the same value, so the mean and median values will lie at one point in the frequency distribution curve. The frequency distribution curve will be symmetrical."
   ]
  },
  {
   "cell_type": "markdown",
   "metadata": {},
   "source": [
    "#### To Find the Proportion of Observations within 1,2, and 3 Standard Deviations of the mean for any Normal Distribution\n",
    "So the result is a standard deviation of 1,2,3, namely:"
   ]
  },
  {
   "cell_type": "code",
   "execution_count": 9,
   "metadata": {},
   "outputs": [
    {
     "name": "stdout",
     "output_type": "stream",
     "text": [
      "Fracton of values within one SD = 0.6577166365583462\n",
      "Fracton of values within two SD = 0.9430627441636624\n",
      "Fracton of values within three SD = 0.9958302621018769\n"
     ]
    }
   ],
   "source": [
    "import matplotlib.pyplot as plt \n",
    "import numpy as np \n",
    "from scipy.stats import norm \n",
    "\n",
    "# value of cdf between one, two \n",
    "# and three S.D. around the mean import matplotlib.pyplot as plt \n",
    "import numpy as np \n",
    "from scipy.stats import norm \n",
    "\n",
    "# setting the values of \n",
    "# mean and S.D. \n",
    "mean = 0.26466742981084057\n",
    "SD = 0.8166830292990428\n",
    "\n",
    "# value of cdf between one, two \n",
    "# and three S.D. around the mean \n",
    "one_sd = norm.cdf(SD, mean, SD) - norm.cdf(-SD, mean, SD) \n",
    "two_sd = norm.cdf(2 * SD, mean, SD) - norm.cdf(-2 * SD, mean, SD) \n",
    "three_sd = norm.cdf(3 * SD, mean, SD) - norm.cdf(-3 * SD, mean, SD) \n",
    "\n",
    "# printing the value of fractions \n",
    "# within each band \n",
    "print(\"Fracton of values within one SD =\", one_sd) \n",
    "print(\"Fracton of values within two SD =\", two_sd) \n",
    "print(\"Fracton of values within three SD =\", three_sd)\n",
    "one_sd = norm.cdf(SD, mean, SD) - norm.cdf(-SD, mean, SD) \n",
    "two_sd = norm.cdf(2 * SD, mean, SD) - norm.cdf(-2 * SD, mean, SD) \n",
    "three_sd = norm.cdf(3 * SD, mean, SD) - norm.cdf(-3 * SD, mean, SD) "
   ]
  },
  {
   "cell_type": "markdown",
   "metadata": {},
   "source": [
    "### 2.1. Relationships\n",
    "Key characteristics:\n",
    "\n",
    "Cases: Video game sales\n",
    "\n",
    "Label: The data above contains ranks, so rank is a label to quickly determine the highest video game sales\n",
    "\n",
    "Categorical or quatitatives: Categorical variables are name, platform, genre, and publisher. While the quantitative variables are year, Na_Sales, EU_Sales, JP_Sales, Other_Sales, Global_Sales\n",
    "\n",
    "Values: Knowing the most popular video game sales\n",
    "\n",
    "Explanatory or response : year, Na_Sales, EU_Sales, JP_Sales, Other_Sales, Global_Sales including explanatory and name, platform, genre, and publisher including response"
   ]
  },
  {
   "cell_type": "markdown",
   "metadata": {},
   "source": [
    "### 2.2. Scatterplots"
   ]
  },
  {
   "cell_type": "code",
   "execution_count": 9,
   "metadata": {},
   "outputs": [],
   "source": [
    "import pandas as pd\n",
    "import numpy as np"
   ]
  },
  {
   "cell_type": "code",
   "execution_count": 10,
   "metadata": {},
   "outputs": [
    {
     "data": {
      "text/html": [
       "<div>\n",
       "<style scoped>\n",
       "    .dataframe tbody tr th:only-of-type {\n",
       "        vertical-align: middle;\n",
       "    }\n",
       "\n",
       "    .dataframe tbody tr th {\n",
       "        vertical-align: top;\n",
       "    }\n",
       "\n",
       "    .dataframe thead th {\n",
       "        text-align: right;\n",
       "    }\n",
       "</style>\n",
       "<table border=\"1\" class=\"dataframe\">\n",
       "  <thead>\n",
       "    <tr style=\"text-align: right;\">\n",
       "      <th></th>\n",
       "      <th>Rank</th>\n",
       "      <th>Name</th>\n",
       "      <th>Platform</th>\n",
       "      <th>Year</th>\n",
       "      <th>Genre</th>\n",
       "      <th>Publisher</th>\n",
       "      <th>NA_Sales</th>\n",
       "      <th>EU_Sales</th>\n",
       "      <th>JP_Sales</th>\n",
       "      <th>Other_Sales</th>\n",
       "      <th>Global_Sales</th>\n",
       "    </tr>\n",
       "  </thead>\n",
       "  <tbody>\n",
       "    <tr>\n",
       "      <th>0</th>\n",
       "      <td>1</td>\n",
       "      <td>Wii Sports</td>\n",
       "      <td>Wii</td>\n",
       "      <td>2006.0</td>\n",
       "      <td>Sports</td>\n",
       "      <td>Nintendo</td>\n",
       "      <td>41.49</td>\n",
       "      <td>29.02</td>\n",
       "      <td>3.77</td>\n",
       "      <td>8.46</td>\n",
       "      <td>82.74</td>\n",
       "    </tr>\n",
       "    <tr>\n",
       "      <th>1</th>\n",
       "      <td>2</td>\n",
       "      <td>Super Mario Bros.</td>\n",
       "      <td>NES</td>\n",
       "      <td>1985.0</td>\n",
       "      <td>Platform</td>\n",
       "      <td>Nintendo</td>\n",
       "      <td>29.08</td>\n",
       "      <td>3.58</td>\n",
       "      <td>6.81</td>\n",
       "      <td>0.77</td>\n",
       "      <td>40.24</td>\n",
       "    </tr>\n",
       "    <tr>\n",
       "      <th>2</th>\n",
       "      <td>3</td>\n",
       "      <td>Mario Kart Wii</td>\n",
       "      <td>Wii</td>\n",
       "      <td>2008.0</td>\n",
       "      <td>Racing</td>\n",
       "      <td>Nintendo</td>\n",
       "      <td>15.85</td>\n",
       "      <td>12.88</td>\n",
       "      <td>3.79</td>\n",
       "      <td>3.31</td>\n",
       "      <td>35.82</td>\n",
       "    </tr>\n",
       "    <tr>\n",
       "      <th>3</th>\n",
       "      <td>4</td>\n",
       "      <td>Wii Sports Resort</td>\n",
       "      <td>Wii</td>\n",
       "      <td>2009.0</td>\n",
       "      <td>Sports</td>\n",
       "      <td>Nintendo</td>\n",
       "      <td>15.75</td>\n",
       "      <td>11.01</td>\n",
       "      <td>3.28</td>\n",
       "      <td>2.96</td>\n",
       "      <td>33.00</td>\n",
       "    </tr>\n",
       "    <tr>\n",
       "      <th>4</th>\n",
       "      <td>5</td>\n",
       "      <td>Pokemon Red/Pokemon Blue</td>\n",
       "      <td>GB</td>\n",
       "      <td>1996.0</td>\n",
       "      <td>Role-Playing</td>\n",
       "      <td>Nintendo</td>\n",
       "      <td>11.27</td>\n",
       "      <td>8.89</td>\n",
       "      <td>10.22</td>\n",
       "      <td>1.00</td>\n",
       "      <td>31.37</td>\n",
       "    </tr>\n",
       "  </tbody>\n",
       "</table>\n",
       "</div>"
      ],
      "text/plain": [
       "   Rank                      Name Platform    Year         Genre Publisher  \\\n",
       "0     1                Wii Sports      Wii  2006.0        Sports  Nintendo   \n",
       "1     2         Super Mario Bros.      NES  1985.0      Platform  Nintendo   \n",
       "2     3            Mario Kart Wii      Wii  2008.0        Racing  Nintendo   \n",
       "3     4         Wii Sports Resort      Wii  2009.0        Sports  Nintendo   \n",
       "4     5  Pokemon Red/Pokemon Blue       GB  1996.0  Role-Playing  Nintendo   \n",
       "\n",
       "   NA_Sales  EU_Sales  JP_Sales  Other_Sales  Global_Sales  \n",
       "0     41.49     29.02      3.77         8.46         82.74  \n",
       "1     29.08      3.58      6.81         0.77         40.24  \n",
       "2     15.85     12.88      3.79         3.31         35.82  \n",
       "3     15.75     11.01      3.28         2.96         33.00  \n",
       "4     11.27      8.89     10.22         1.00         31.37  "
      ]
     },
     "execution_count": 10,
     "metadata": {},
     "output_type": "execute_result"
    }
   ],
   "source": [
    "df=pd.read_csv('vgsales.csv')\n",
    "df.head(5)"
   ]
  },
  {
   "cell_type": "code",
   "execution_count": 16,
   "metadata": {},
   "outputs": [],
   "source": [
    "import matplotlib.pyplot as plt\n",
    "%matplotlib inline\n",
    "import seaborn as sns"
   ]
  },
  {
   "cell_type": "code",
   "execution_count": 13,
   "metadata": {},
   "outputs": [
    {
     "data": {
      "image/png": "[encoded data removed]",
      "text/plain": [
       "<Figure size 432x288 with 1 Axes>"
      ]
     },
     "metadata": {
      "needs_background": "light"
     },
     "output_type": "display_data"
    }
   ],
   "source": [
    "plt.scatter(df.index,df['NA_Sales'])\n",
    "plt.show()"
   ]
  },
  {
   "cell_type": "code",
   "execution_count": 14,
   "metadata": {},
   "outputs": [
    {
     "data": {
      "image/png": "[encoded data removed]",
      "text/plain": [
       "<Figure size 432x288 with 1 Axes>"
      ]
     },
     "metadata": {
      "needs_background": "light"
     },
     "output_type": "display_data"
    }
   ],
   "source": [
    "plt.scatter(df.index,df['Platform'])\n",
    "plt.show()"
   ]
  },
  {
   "cell_type": "markdown",
   "metadata": {},
   "source": [
    "The scatterplot above uses NA_Sales and Platform data. If you look at the scatter plot above, the NA_Sales distribution has a higher level at the beginning of the distribution, then drops drastically and is just flat and there are outliers. Meanwhile, the platform has points that are evenly distributed and located in one area, there are no outliers."
   ]
  },
  {
   "cell_type": "markdown",
   "metadata": {},
   "source": [
    "### 2.3. Correlation"
   ]
  },
  {
   "cell_type": "code",
   "execution_count": 18,
   "metadata": {},
   "outputs": [
    {
     "data": {
      "image/png": "[encoded data removed]",
      "text/plain": [
       "<Figure size 432x288 with 1 Axes>"
      ]
     },
     "metadata": {
      "needs_background": "light"
     },
     "output_type": "display_data"
    }
   ],
   "source": [
    "sns.scatterplot(x=df.index,y=df['NA_Sales'], hue=df['Platform'])\n",
    "plt.show()"
   ]
  },
  {
   "cell_type": "markdown",
   "metadata": {},
   "source": [
    "By looking at/using a scatterplot we can get a general picture of the condition of the two variables and see whether there is a correlation or not. Scatterplots also help detect whether there are outliers in these variables. From the scatterplot above based on existing data using 1 categorical variable, namely platform, and 1 quantitative variable, namely NA_Sales, it can be seen that all the points in the diagram have no direction of distribution, they are only on one vertical line. These two variables are related linearly. There are outliers in the scatterplot."
   ]
  },
  {
   "cell_type": "markdown",
   "metadata": {},
   "source": [
    "### 2.4. Regression\n",
    "In this regression I use 2 quantitative variable data, namely EU_Sales and Other_Sales. Only uses the top 5 data."
   ]
  },
  {
   "cell_type": "code",
   "execution_count": 19,
   "metadata": {},
   "outputs": [],
   "source": [
    "import matplotlib.pyplot as plt\n",
    "from scipy import stats"
   ]
  },
  {
   "cell_type": "code",
   "execution_count": 20,
   "metadata": {},
   "outputs": [],
   "source": [
    "x = [29.02, 3.58, 12.88, 11.01, 8.89]\n",
    "y = [8.46, 0.77, 3.31, 2.96, 1.00]"
   ]
  },
  {
   "cell_type": "code",
   "execution_count": 21,
   "metadata": {},
   "outputs": [],
   "source": [
    "slope, intercept, r, p, std_err = stats.linregress(x, y)"
   ]
  },
  {
   "cell_type": "code",
   "execution_count": 22,
   "metadata": {},
   "outputs": [
    {
     "name": "stdout",
     "output_type": "stream",
     "text": [
      "slope=(0), intercept=(1), r=(2), p=(3), std_err=(4) \n"
     ]
    }
   ],
   "source": [
    "print ('slope=(0), intercept=(1), r=(2), p=(3), std_err=(4) '.format(slope, intercept, r,p,std_err))"
   ]
  },
  {
   "cell_type": "code",
   "execution_count": 23,
   "metadata": {},
   "outputs": [],
   "source": [
    "def myfunc(x) :\n",
    "    return slope * x + intercept"
   ]
  },
  {
   "cell_type": "code",
   "execution_count": 24,
   "metadata": {},
   "outputs": [],
   "source": [
    "mymodel = list(map(myfunc, x))"
   ]
  },
  {
   "cell_type": "code",
   "execution_count": 25,
   "metadata": {},
   "outputs": [
    {
     "data": {
      "text/plain": [
       "[<matplotlib.lines.Line2D at 0x1fc286dc370>]"
      ]
     },
     "execution_count": 25,
     "metadata": {},
     "output_type": "execute_result"
    },
    {
     "data": {
      "image/png": "[encoded data removed]",
      "text/plain": [
       "<Figure size 432x288 with 1 Axes>"
      ]
     },
     "metadata": {
      "needs_background": "light"
     },
     "output_type": "display_data"
    }
   ],
   "source": [
    "plt.scatter(x,y)\n",
    "plt.plot(x, mymodel)"
   ]
  },
  {
   "cell_type": "markdown",
   "metadata": {},
   "source": [
    "From the picture above, this regression definitely has a positive distribution, and has a vertical line sloping upwards. The slope of the regression line cannot change. The new point does not change the correlation, and this, in turn, means the regression line does not change either. The new point on the existing line exactly matches the prediction thus, there is no remainder. Because the regression line produces the least residual sum of squares, adding points with zero residuals does not change the line. Placing a new point on an existing line does not change the average x and y. Thus, the parameters of the regression line remain the same. There are outliers in this data. Two variables are positively associated when the value is above the mean of one tend to accompany above-average grades from others and below-average grades also tend to occur together."
   ]
  },
  {
   "cell_type": "markdown",
   "metadata": {},
   "source": [
    "### 2.5. Cautions about Correlation and Regression\n",
    "In this discussion I use 2 quantitative variable data, namely NA_Sales and JP_Sales. Only uses the top 5 data."
   ]
  },
  {
   "cell_type": "code",
   "execution_count": 23,
   "metadata": {},
   "outputs": [],
   "source": [
    "import matplotlib.pyplot as plt\n",
    "from scipy import stats"
   ]
  },
  {
   "cell_type": "code",
   "execution_count": 24,
   "metadata": {},
   "outputs": [],
   "source": [
    "x = [41.49, 29.08, 15.85, 15.75, 11.27]\n",
    "y = [3.77, 6.81, 3.79, 3.28, 10.22]"
   ]
  },
  {
   "cell_type": "code",
   "execution_count": 25,
   "metadata": {},
   "outputs": [],
   "source": [
    "slope, intercept, r, p, std_err = stats.linregress(x, y)"
   ]
  },
  {
   "cell_type": "code",
   "execution_count": 26,
   "metadata": {},
   "outputs": [
    {
     "name": "stdout",
     "output_type": "stream",
     "text": [
      "slope=(0), intercept=(1), r=(2), p=(3), std_err=(4) \n"
     ]
    }
   ],
   "source": [
    "print ('slope=(0), intercept=(1), r=(2), p=(3), std_err=(4) '.format(slope, intercept, r,p,std_err))"
   ]
  },
  {
   "cell_type": "code",
   "execution_count": 27,
   "metadata": {},
   "outputs": [],
   "source": [
    "def myfunc(x) :\n",
    "    return slope * x + intercept"
   ]
  },
  {
   "cell_type": "code",
   "execution_count": 28,
   "metadata": {},
   "outputs": [],
   "source": [
    "mymodel = list(map(myfunc, x))"
   ]
  },
  {
   "cell_type": "code",
   "execution_count": 29,
   "metadata": {},
   "outputs": [
    {
     "data": {
      "text/plain": [
       "[<matplotlib.lines.Line2D at 0x11fa25bdfa0>]"
      ]
     },
     "execution_count": 29,
     "metadata": {},
     "output_type": "execute_result"
    },
    {
     "data": {
      "image/png": "[encoded data removed]",
      "text/plain": [
       "<Figure size 432x288 with 1 Axes>"
      ]
     },
     "metadata": {
      "needs_background": "light"
     },
     "output_type": "display_data"
    }
   ],
   "source": [
    "plt.scatter(x,y)\n",
    "plt.plot(x, mymodel)"
   ]
  },
  {
   "cell_type": "markdown",
   "metadata": {},
   "source": [
    "From the picture above, this regression definitely has a negative distribution, and has a downward sloping vertical line. Due to the random residual pattern around the timeline, we can say that the above regression model provides a good fit to the data. There are outliers because the data is quite different. The negative relationship between these two variables is described in such a way that if one variable increases then the other variable decreases. A strong negative relationship means that there is a negative relationship between the explanatory variable and the response variable. Two variables are negatively associated when above-average values of one variable tend to accompany below-average values of the other, and vice versa."
   ]
  },
  {
   "cell_type": "markdown",
   "metadata": {},
   "source": [
    "### 2.6.  Data Analysis for Two Way Tables"
   ]
  },
  {
   "cell_type": "code",
   "execution_count": 1,
   "metadata": {},
   "outputs": [],
   "source": [
    "import pandas as pd\n",
    "import seaborn as sns"
   ]
  },
  {
   "cell_type": "code",
   "execution_count": 2,
   "metadata": {},
   "outputs": [],
   "source": [
    "%matplotlib inline"
   ]
  },
  {
   "cell_type": "code",
   "execution_count": 5,
   "metadata": {},
   "outputs": [],
   "source": [
    "headers = [\"Rank\", \"Name\", \"Platform\", \"Year\", \"Genre\", \"Publisher\", \"NA_Sales\", \n",
    "           \"EU_Sales\", \"JP_Sales\", \"Other_Sales\", \"Global_Sales\" ]"
   ]
  },
  {
   "cell_type": "code",
   "execution_count": 7,
   "metadata": {},
   "outputs": [
    {
     "data": {
      "text/html": [
       "<div>\n",
       "<style scoped>\n",
       "    .dataframe tbody tr th:only-of-type {\n",
       "        vertical-align: middle;\n",
       "    }\n",
       "\n",
       "    .dataframe tbody tr th {\n",
       "        vertical-align: top;\n",
       "    }\n",
       "\n",
       "    .dataframe thead th {\n",
       "        text-align: right;\n",
       "    }\n",
       "</style>\n",
       "<table border=\"1\" class=\"dataframe\">\n",
       "  <thead>\n",
       "    <tr style=\"text-align: right;\">\n",
       "      <th></th>\n",
       "      <th>Rank</th>\n",
       "      <th>Name</th>\n",
       "      <th>Platform</th>\n",
       "      <th>Year</th>\n",
       "      <th>Genre</th>\n",
       "      <th>Publisher</th>\n",
       "      <th>NA_Sales</th>\n",
       "      <th>EU_Sales</th>\n",
       "      <th>JP_Sales</th>\n",
       "      <th>Other_Sales</th>\n",
       "      <th>Global_Sales</th>\n",
       "    </tr>\n",
       "  </thead>\n",
       "  <tbody>\n",
       "    <tr>\n",
       "      <th>0</th>\n",
       "      <td>Rank</td>\n",
       "      <td>Name</td>\n",
       "      <td>Platform</td>\n",
       "      <td>Year</td>\n",
       "      <td>Genre</td>\n",
       "      <td>Publisher</td>\n",
       "      <td>NA_Sales</td>\n",
       "      <td>EU_Sales</td>\n",
       "      <td>JP_Sales</td>\n",
       "      <td>Other_Sales</td>\n",
       "      <td>Global_Sales</td>\n",
       "    </tr>\n",
       "    <tr>\n",
       "      <th>1</th>\n",
       "      <td>1</td>\n",
       "      <td>Wii Sports</td>\n",
       "      <td>Wii</td>\n",
       "      <td>2006</td>\n",
       "      <td>Sports</td>\n",
       "      <td>Nintendo</td>\n",
       "      <td>41.49</td>\n",
       "      <td>29.02</td>\n",
       "      <td>3.77</td>\n",
       "      <td>8.46</td>\n",
       "      <td>82.74</td>\n",
       "    </tr>\n",
       "    <tr>\n",
       "      <th>2</th>\n",
       "      <td>2</td>\n",
       "      <td>Super Mario Bros.</td>\n",
       "      <td>NES</td>\n",
       "      <td>1985</td>\n",
       "      <td>Platform</td>\n",
       "      <td>Nintendo</td>\n",
       "      <td>29.08</td>\n",
       "      <td>3.58</td>\n",
       "      <td>6.81</td>\n",
       "      <td>0.77</td>\n",
       "      <td>40.24</td>\n",
       "    </tr>\n",
       "    <tr>\n",
       "      <th>3</th>\n",
       "      <td>3</td>\n",
       "      <td>Mario Kart Wii</td>\n",
       "      <td>Wii</td>\n",
       "      <td>2008</td>\n",
       "      <td>Racing</td>\n",
       "      <td>Nintendo</td>\n",
       "      <td>15.85</td>\n",
       "      <td>12.88</td>\n",
       "      <td>3.79</td>\n",
       "      <td>3.31</td>\n",
       "      <td>35.82</td>\n",
       "    </tr>\n",
       "    <tr>\n",
       "      <th>4</th>\n",
       "      <td>4</td>\n",
       "      <td>Wii Sports Resort</td>\n",
       "      <td>Wii</td>\n",
       "      <td>2009</td>\n",
       "      <td>Sports</td>\n",
       "      <td>Nintendo</td>\n",
       "      <td>15.75</td>\n",
       "      <td>11.01</td>\n",
       "      <td>3.28</td>\n",
       "      <td>2.96</td>\n",
       "      <td>33</td>\n",
       "    </tr>\n",
       "  </tbody>\n",
       "</table>\n",
       "</div>"
      ],
      "text/plain": [
       "   Rank               Name  Platform  Year     Genre  Publisher  NA_Sales  \\\n",
       "0  Rank               Name  Platform  Year     Genre  Publisher  NA_Sales   \n",
       "1     1         Wii Sports       Wii  2006    Sports   Nintendo     41.49   \n",
       "2     2  Super Mario Bros.       NES  1985  Platform   Nintendo     29.08   \n",
       "3     3     Mario Kart Wii       Wii  2008    Racing   Nintendo     15.85   \n",
       "4     4  Wii Sports Resort       Wii  2009    Sports   Nintendo     15.75   \n",
       "\n",
       "   EU_Sales  JP_Sales  Other_Sales  Global_Sales  \n",
       "0  EU_Sales  JP_Sales  Other_Sales  Global_Sales  \n",
       "1     29.02      3.77         8.46         82.74  \n",
       "2      3.58      6.81         0.77         40.24  \n",
       "3     12.88      3.79         3.31         35.82  \n",
       "4     11.01      3.28         2.96            33  "
      ]
     },
     "execution_count": 7,
     "metadata": {},
     "output_type": "execute_result"
    }
   ],
   "source": [
    "df_raw = pd.read_csv(\"vgsales.csv\", header=None, names=headers, na_values=\"?\" )\n",
    "df_raw.head(5)"
   ]
  },
  {
   "cell_type": "code",
   "execution_count": 8,
   "metadata": {},
   "outputs": [
    {
     "data": {
      "text/html": [
       "<div>\n",
       "<style scoped>\n",
       "    .dataframe tbody tr th:only-of-type {\n",
       "        vertical-align: middle;\n",
       "    }\n",
       "\n",
       "    .dataframe tbody tr th {\n",
       "        vertical-align: top;\n",
       "    }\n",
       "\n",
       "    .dataframe thead th {\n",
       "        text-align: right;\n",
       "    }\n",
       "</style>\n",
       "<table border=\"1\" class=\"dataframe\">\n",
       "  <thead>\n",
       "    <tr style=\"text-align: right;\">\n",
       "      <th></th>\n",
       "      <th>Rank</th>\n",
       "      <th>Name</th>\n",
       "      <th>Platform</th>\n",
       "      <th>Year</th>\n",
       "      <th>Genre</th>\n",
       "      <th>Publisher</th>\n",
       "      <th>NA_Sales</th>\n",
       "      <th>EU_Sales</th>\n",
       "      <th>JP_Sales</th>\n",
       "      <th>Other_Sales</th>\n",
       "      <th>Global_Sales</th>\n",
       "    </tr>\n",
       "  </thead>\n",
       "  <tbody>\n",
       "    <tr>\n",
       "      <th>count</th>\n",
       "      <td>16599</td>\n",
       "      <td>16599</td>\n",
       "      <td>16599</td>\n",
       "      <td>16328</td>\n",
       "      <td>16599</td>\n",
       "      <td>16541</td>\n",
       "      <td>16599</td>\n",
       "      <td>16599</td>\n",
       "      <td>16599</td>\n",
       "      <td>16599</td>\n",
       "      <td>16599</td>\n",
       "    </tr>\n",
       "    <tr>\n",
       "      <th>unique</th>\n",
       "      <td>16599</td>\n",
       "      <td>11494</td>\n",
       "      <td>32</td>\n",
       "      <td>40</td>\n",
       "      <td>13</td>\n",
       "      <td>579</td>\n",
       "      <td>410</td>\n",
       "      <td>306</td>\n",
       "      <td>245</td>\n",
       "      <td>158</td>\n",
       "      <td>624</td>\n",
       "    </tr>\n",
       "    <tr>\n",
       "      <th>top</th>\n",
       "      <td>15235</td>\n",
       "      <td>Need for Speed: Most Wanted</td>\n",
       "      <td>DS</td>\n",
       "      <td>2009</td>\n",
       "      <td>Action</td>\n",
       "      <td>Electronic Arts</td>\n",
       "      <td>0</td>\n",
       "      <td>0</td>\n",
       "      <td>0</td>\n",
       "      <td>0</td>\n",
       "      <td>0.02</td>\n",
       "    </tr>\n",
       "    <tr>\n",
       "      <th>freq</th>\n",
       "      <td>1</td>\n",
       "      <td>12</td>\n",
       "      <td>2163</td>\n",
       "      <td>1431</td>\n",
       "      <td>3316</td>\n",
       "      <td>1351</td>\n",
       "      <td>4499</td>\n",
       "      <td>5730</td>\n",
       "      <td>10455</td>\n",
       "      <td>6477</td>\n",
       "      <td>1071</td>\n",
       "    </tr>\n",
       "  </tbody>\n",
       "</table>\n",
       "</div>"
      ],
      "text/plain": [
       "         Rank                         Name Platform   Year   Genre  \\\n",
       "count   16599                        16599    16599  16328   16599   \n",
       "unique  16599                        11494       32     40      13   \n",
       "top     15235  Need for Speed: Most Wanted       DS   2009  Action   \n",
       "freq        1                           12     2163   1431    3316   \n",
       "\n",
       "              Publisher NA_Sales EU_Sales JP_Sales Other_Sales Global_Sales  \n",
       "count             16541    16599    16599    16599       16599        16599  \n",
       "unique              579      410      306      245         158          624  \n",
       "top     Electronic Arts        0        0        0           0         0.02  \n",
       "freq               1351     4499     5730    10455        6477         1071  "
      ]
     },
     "execution_count": 8,
     "metadata": {},
     "output_type": "execute_result"
    }
   ],
   "source": [
    "df_raw.describe()"
   ]
  },
  {
   "cell_type": "code",
   "execution_count": 16,
   "metadata": {},
   "outputs": [],
   "source": [
    "models = [\"Wii\", \"GB\", \"DS\", \"NES\"]"
   ]
  },
  {
   "cell_type": "code",
   "execution_count": 17,
   "metadata": {},
   "outputs": [],
   "source": [
    "df = df_raw [df_raw.Platform.isin(models)].copy()"
   ]
  },
  {
   "cell_type": "code",
   "execution_count": 18,
   "metadata": {},
   "outputs": [
    {
     "data": {
      "text/html": [
       "<div>\n",
       "<style scoped>\n",
       "    .dataframe tbody tr th:only-of-type {\n",
       "        vertical-align: middle;\n",
       "    }\n",
       "\n",
       "    .dataframe tbody tr th {\n",
       "        vertical-align: top;\n",
       "    }\n",
       "\n",
       "    .dataframe thead th {\n",
       "        text-align: right;\n",
       "    }\n",
       "</style>\n",
       "<table border=\"1\" class=\"dataframe\">\n",
       "  <thead>\n",
       "    <tr style=\"text-align: right;\">\n",
       "      <th></th>\n",
       "      <th>Rank</th>\n",
       "      <th>Name</th>\n",
       "      <th>Platform</th>\n",
       "      <th>Year</th>\n",
       "      <th>Genre</th>\n",
       "      <th>Publisher</th>\n",
       "      <th>NA_Sales</th>\n",
       "      <th>EU_Sales</th>\n",
       "      <th>JP_Sales</th>\n",
       "      <th>Other_Sales</th>\n",
       "      <th>Global_Sales</th>\n",
       "    </tr>\n",
       "  </thead>\n",
       "  <tbody>\n",
       "    <tr>\n",
       "      <th>1</th>\n",
       "      <td>1</td>\n",
       "      <td>Wii Sports</td>\n",
       "      <td>Wii</td>\n",
       "      <td>2006</td>\n",
       "      <td>Sports</td>\n",
       "      <td>Nintendo</td>\n",
       "      <td>41.49</td>\n",
       "      <td>29.02</td>\n",
       "      <td>3.77</td>\n",
       "      <td>8.46</td>\n",
       "      <td>82.74</td>\n",
       "    </tr>\n",
       "    <tr>\n",
       "      <th>2</th>\n",
       "      <td>2</td>\n",
       "      <td>Super Mario Bros.</td>\n",
       "      <td>NES</td>\n",
       "      <td>1985</td>\n",
       "      <td>Platform</td>\n",
       "      <td>Nintendo</td>\n",
       "      <td>29.08</td>\n",
       "      <td>3.58</td>\n",
       "      <td>6.81</td>\n",
       "      <td>0.77</td>\n",
       "      <td>40.24</td>\n",
       "    </tr>\n",
       "    <tr>\n",
       "      <th>3</th>\n",
       "      <td>3</td>\n",
       "      <td>Mario Kart Wii</td>\n",
       "      <td>Wii</td>\n",
       "      <td>2008</td>\n",
       "      <td>Racing</td>\n",
       "      <td>Nintendo</td>\n",
       "      <td>15.85</td>\n",
       "      <td>12.88</td>\n",
       "      <td>3.79</td>\n",
       "      <td>3.31</td>\n",
       "      <td>35.82</td>\n",
       "    </tr>\n",
       "    <tr>\n",
       "      <th>4</th>\n",
       "      <td>4</td>\n",
       "      <td>Wii Sports Resort</td>\n",
       "      <td>Wii</td>\n",
       "      <td>2009</td>\n",
       "      <td>Sports</td>\n",
       "      <td>Nintendo</td>\n",
       "      <td>15.75</td>\n",
       "      <td>11.01</td>\n",
       "      <td>3.28</td>\n",
       "      <td>2.96</td>\n",
       "      <td>33</td>\n",
       "    </tr>\n",
       "    <tr>\n",
       "      <th>5</th>\n",
       "      <td>5</td>\n",
       "      <td>Pokemon Red/Pokemon Blue</td>\n",
       "      <td>GB</td>\n",
       "      <td>1996</td>\n",
       "      <td>Role-Playing</td>\n",
       "      <td>Nintendo</td>\n",
       "      <td>11.27</td>\n",
       "      <td>8.89</td>\n",
       "      <td>10.22</td>\n",
       "      <td>1</td>\n",
       "      <td>31.37</td>\n",
       "    </tr>\n",
       "  </tbody>\n",
       "</table>\n",
       "</div>"
      ],
      "text/plain": [
       "  Rank                      Name Platform  Year         Genre Publisher  \\\n",
       "1    1                Wii Sports      Wii  2006        Sports  Nintendo   \n",
       "2    2         Super Mario Bros.      NES  1985      Platform  Nintendo   \n",
       "3    3            Mario Kart Wii      Wii  2008        Racing  Nintendo   \n",
       "4    4         Wii Sports Resort      Wii  2009        Sports  Nintendo   \n",
       "5    5  Pokemon Red/Pokemon Blue       GB  1996  Role-Playing  Nintendo   \n",
       "\n",
       "  NA_Sales EU_Sales JP_Sales Other_Sales Global_Sales  \n",
       "1    41.49    29.02     3.77        8.46        82.74  \n",
       "2    29.08     3.58     6.81        0.77        40.24  \n",
       "3    15.85    12.88     3.79        3.31        35.82  \n",
       "4    15.75    11.01     3.28        2.96           33  \n",
       "5    11.27     8.89    10.22           1        31.37  "
      ]
     },
     "execution_count": 18,
     "metadata": {},
     "output_type": "execute_result"
    }
   ],
   "source": [
    "df.head()"
   ]
  },
  {
   "cell_type": "code",
   "execution_count": 19,
   "metadata": {},
   "outputs": [
    {
     "data": {
      "text/html": [
       "<div>\n",
       "<style scoped>\n",
       "    .dataframe tbody tr th:only-of-type {\n",
       "        vertical-align: middle;\n",
       "    }\n",
       "\n",
       "    .dataframe tbody tr th {\n",
       "        vertical-align: top;\n",
       "    }\n",
       "\n",
       "    .dataframe thead th {\n",
       "        text-align: right;\n",
       "    }\n",
       "</style>\n",
       "<table border=\"1\" class=\"dataframe\">\n",
       "  <thead>\n",
       "    <tr style=\"text-align: right;\">\n",
       "      <th>NA_Sales</th>\n",
       "      <th>0</th>\n",
       "      <th>0.01</th>\n",
       "      <th>0.02</th>\n",
       "      <th>0.03</th>\n",
       "      <th>0.04</th>\n",
       "      <th>0.05</th>\n",
       "      <th>0.06</th>\n",
       "      <th>0.07</th>\n",
       "      <th>0.08</th>\n",
       "      <th>0.09</th>\n",
       "      <th>...</th>\n",
       "      <th>6.05</th>\n",
       "      <th>6.16</th>\n",
       "      <th>6.42</th>\n",
       "      <th>6.75</th>\n",
       "      <th>8.94</th>\n",
       "      <th>9</th>\n",
       "      <th>9.07</th>\n",
       "      <th>9.09</th>\n",
       "      <th>9.54</th>\n",
       "      <th>9.81</th>\n",
       "    </tr>\n",
       "    <tr>\n",
       "      <th>Platform</th>\n",
       "      <th></th>\n",
       "      <th></th>\n",
       "      <th></th>\n",
       "      <th></th>\n",
       "      <th></th>\n",
       "      <th></th>\n",
       "      <th></th>\n",
       "      <th></th>\n",
       "      <th></th>\n",
       "      <th></th>\n",
       "      <th></th>\n",
       "      <th></th>\n",
       "      <th></th>\n",
       "      <th></th>\n",
       "      <th></th>\n",
       "      <th></th>\n",
       "      <th></th>\n",
       "      <th></th>\n",
       "      <th></th>\n",
       "      <th></th>\n",
       "      <th></th>\n",
       "    </tr>\n",
       "  </thead>\n",
       "  <tbody>\n",
       "    <tr>\n",
       "      <th>DS</th>\n",
       "      <td>632</td>\n",
       "      <td>54</td>\n",
       "      <td>76</td>\n",
       "      <td>77</td>\n",
       "      <td>77</td>\n",
       "      <td>90</td>\n",
       "      <td>78</td>\n",
       "      <td>82</td>\n",
       "      <td>70</td>\n",
       "      <td>63</td>\n",
       "      <td>...</td>\n",
       "      <td>0</td>\n",
       "      <td>0</td>\n",
       "      <td>1</td>\n",
       "      <td>0</td>\n",
       "      <td>0</td>\n",
       "      <td>0</td>\n",
       "      <td>1</td>\n",
       "      <td>0</td>\n",
       "      <td>0</td>\n",
       "      <td>1</td>\n",
       "    </tr>\n",
       "    <tr>\n",
       "      <th>GB</th>\n",
       "      <td>52</td>\n",
       "      <td>0</td>\n",
       "      <td>0</td>\n",
       "      <td>0</td>\n",
       "      <td>0</td>\n",
       "      <td>0</td>\n",
       "      <td>0</td>\n",
       "      <td>0</td>\n",
       "      <td>0</td>\n",
       "      <td>0</td>\n",
       "      <td>...</td>\n",
       "      <td>0</td>\n",
       "      <td>1</td>\n",
       "      <td>0</td>\n",
       "      <td>0</td>\n",
       "      <td>0</td>\n",
       "      <td>1</td>\n",
       "      <td>0</td>\n",
       "      <td>0</td>\n",
       "      <td>0</td>\n",
       "      <td>0</td>\n",
       "    </tr>\n",
       "    <tr>\n",
       "      <th>NES</th>\n",
       "      <td>23</td>\n",
       "      <td>1</td>\n",
       "      <td>0</td>\n",
       "      <td>0</td>\n",
       "      <td>1</td>\n",
       "      <td>0</td>\n",
       "      <td>1</td>\n",
       "      <td>0</td>\n",
       "      <td>1</td>\n",
       "      <td>0</td>\n",
       "      <td>...</td>\n",
       "      <td>0</td>\n",
       "      <td>0</td>\n",
       "      <td>0</td>\n",
       "      <td>0</td>\n",
       "      <td>0</td>\n",
       "      <td>0</td>\n",
       "      <td>0</td>\n",
       "      <td>0</td>\n",
       "      <td>1</td>\n",
       "      <td>0</td>\n",
       "    </tr>\n",
       "    <tr>\n",
       "      <th>Wii</th>\n",
       "      <td>177</td>\n",
       "      <td>22</td>\n",
       "      <td>43</td>\n",
       "      <td>24</td>\n",
       "      <td>49</td>\n",
       "      <td>35</td>\n",
       "      <td>50</td>\n",
       "      <td>38</td>\n",
       "      <td>45</td>\n",
       "      <td>34</td>\n",
       "      <td>...</td>\n",
       "      <td>1</td>\n",
       "      <td>1</td>\n",
       "      <td>0</td>\n",
       "      <td>1</td>\n",
       "      <td>1</td>\n",
       "      <td>0</td>\n",
       "      <td>0</td>\n",
       "      <td>1</td>\n",
       "      <td>0</td>\n",
       "      <td>0</td>\n",
       "    </tr>\n",
       "  </tbody>\n",
       "</table>\n",
       "<p>4 rows × 223 columns</p>\n",
       "</div>"
      ],
      "text/plain": [
       "NA_Sales    0  0.01  0.02  0.03  0.04  0.05  0.06  0.07  0.08  0.09  ...  \\\n",
       "Platform                                                             ...   \n",
       "DS        632    54    76    77    77    90    78    82    70    63  ...   \n",
       "GB         52     0     0     0     0     0     0     0     0     0  ...   \n",
       "NES        23     1     0     0     1     0     1     0     1     0  ...   \n",
       "Wii       177    22    43    24    49    35    50    38    45    34  ...   \n",
       "\n",
       "NA_Sales  6.05  6.16  6.42  6.75  8.94  9  9.07  9.09  9.54  9.81  \n",
       "Platform                                                           \n",
       "DS           0     0     1     0     0  0     1     0     0     1  \n",
       "GB           0     1     0     0     0  1     0     0     0     0  \n",
       "NES          0     0     0     0     0  0     0     0     1     0  \n",
       "Wii          1     1     0     1     1  0     0     1     0     0  \n",
       "\n",
       "[4 rows x 223 columns]"
      ]
     },
     "execution_count": 19,
     "metadata": {},
     "output_type": "execute_result"
    }
   ],
   "source": [
    "pd.crosstab(df.Platform, df.NA_Sales)"
   ]
  },
  {
   "cell_type": "code",
   "execution_count": 20,
   "metadata": {},
   "outputs": [
    {
     "data": {
      "text/html": [
       "<div>\n",
       "<style scoped>\n",
       "    .dataframe tbody tr th:only-of-type {\n",
       "        vertical-align: middle;\n",
       "    }\n",
       "\n",
       "    .dataframe tbody tr th {\n",
       "        vertical-align: top;\n",
       "    }\n",
       "\n",
       "    .dataframe thead th {\n",
       "        text-align: right;\n",
       "    }\n",
       "</style>\n",
       "<table border=\"1\" class=\"dataframe\">\n",
       "  <thead>\n",
       "    <tr style=\"text-align: right;\">\n",
       "      <th>NA_Sales</th>\n",
       "      <th>0</th>\n",
       "      <th>0.01</th>\n",
       "      <th>0.02</th>\n",
       "      <th>0.03</th>\n",
       "      <th>0.04</th>\n",
       "      <th>0.05</th>\n",
       "      <th>0.06</th>\n",
       "      <th>0.07</th>\n",
       "      <th>0.08</th>\n",
       "      <th>0.09</th>\n",
       "      <th>...</th>\n",
       "      <th>6.05</th>\n",
       "      <th>6.16</th>\n",
       "      <th>6.42</th>\n",
       "      <th>6.75</th>\n",
       "      <th>8.94</th>\n",
       "      <th>9</th>\n",
       "      <th>9.07</th>\n",
       "      <th>9.09</th>\n",
       "      <th>9.54</th>\n",
       "      <th>9.81</th>\n",
       "    </tr>\n",
       "    <tr>\n",
       "      <th>Platform</th>\n",
       "      <th></th>\n",
       "      <th></th>\n",
       "      <th></th>\n",
       "      <th></th>\n",
       "      <th></th>\n",
       "      <th></th>\n",
       "      <th></th>\n",
       "      <th></th>\n",
       "      <th></th>\n",
       "      <th></th>\n",
       "      <th></th>\n",
       "      <th></th>\n",
       "      <th></th>\n",
       "      <th></th>\n",
       "      <th></th>\n",
       "      <th></th>\n",
       "      <th></th>\n",
       "      <th></th>\n",
       "      <th></th>\n",
       "      <th></th>\n",
       "      <th></th>\n",
       "    </tr>\n",
       "  </thead>\n",
       "  <tbody>\n",
       "    <tr>\n",
       "      <th>DS</th>\n",
       "      <td>0.714932</td>\n",
       "      <td>0.701299</td>\n",
       "      <td>0.638655</td>\n",
       "      <td>0.762376</td>\n",
       "      <td>0.606299</td>\n",
       "      <td>0.72</td>\n",
       "      <td>0.604651</td>\n",
       "      <td>0.683333</td>\n",
       "      <td>0.603448</td>\n",
       "      <td>0.649485</td>\n",
       "      <td>...</td>\n",
       "      <td>0.0</td>\n",
       "      <td>0.0</td>\n",
       "      <td>1.0</td>\n",
       "      <td>0.0</td>\n",
       "      <td>0.0</td>\n",
       "      <td>0.0</td>\n",
       "      <td>1.0</td>\n",
       "      <td>0.0</td>\n",
       "      <td>0.0</td>\n",
       "      <td>1.0</td>\n",
       "    </tr>\n",
       "    <tr>\n",
       "      <th>GB</th>\n",
       "      <td>0.058824</td>\n",
       "      <td>0.000000</td>\n",
       "      <td>0.000000</td>\n",
       "      <td>0.000000</td>\n",
       "      <td>0.000000</td>\n",
       "      <td>0.00</td>\n",
       "      <td>0.000000</td>\n",
       "      <td>0.000000</td>\n",
       "      <td>0.000000</td>\n",
       "      <td>0.000000</td>\n",
       "      <td>...</td>\n",
       "      <td>0.0</td>\n",
       "      <td>0.5</td>\n",
       "      <td>0.0</td>\n",
       "      <td>0.0</td>\n",
       "      <td>0.0</td>\n",
       "      <td>1.0</td>\n",
       "      <td>0.0</td>\n",
       "      <td>0.0</td>\n",
       "      <td>0.0</td>\n",
       "      <td>0.0</td>\n",
       "    </tr>\n",
       "    <tr>\n",
       "      <th>NES</th>\n",
       "      <td>0.026018</td>\n",
       "      <td>0.012987</td>\n",
       "      <td>0.000000</td>\n",
       "      <td>0.000000</td>\n",
       "      <td>0.007874</td>\n",
       "      <td>0.00</td>\n",
       "      <td>0.007752</td>\n",
       "      <td>0.000000</td>\n",
       "      <td>0.008621</td>\n",
       "      <td>0.000000</td>\n",
       "      <td>...</td>\n",
       "      <td>0.0</td>\n",
       "      <td>0.0</td>\n",
       "      <td>0.0</td>\n",
       "      <td>0.0</td>\n",
       "      <td>0.0</td>\n",
       "      <td>0.0</td>\n",
       "      <td>0.0</td>\n",
       "      <td>0.0</td>\n",
       "      <td>1.0</td>\n",
       "      <td>0.0</td>\n",
       "    </tr>\n",
       "    <tr>\n",
       "      <th>Wii</th>\n",
       "      <td>0.200226</td>\n",
       "      <td>0.285714</td>\n",
       "      <td>0.361345</td>\n",
       "      <td>0.237624</td>\n",
       "      <td>0.385827</td>\n",
       "      <td>0.28</td>\n",
       "      <td>0.387597</td>\n",
       "      <td>0.316667</td>\n",
       "      <td>0.387931</td>\n",
       "      <td>0.350515</td>\n",
       "      <td>...</td>\n",
       "      <td>1.0</td>\n",
       "      <td>0.5</td>\n",
       "      <td>0.0</td>\n",
       "      <td>1.0</td>\n",
       "      <td>1.0</td>\n",
       "      <td>0.0</td>\n",
       "      <td>0.0</td>\n",
       "      <td>1.0</td>\n",
       "      <td>0.0</td>\n",
       "      <td>0.0</td>\n",
       "    </tr>\n",
       "  </tbody>\n",
       "</table>\n",
       "<p>4 rows × 223 columns</p>\n",
       "</div>"
      ],
      "text/plain": [
       "NA_Sales         0      0.01      0.02      0.03      0.04  0.05      0.06  \\\n",
       "Platform                                                                     \n",
       "DS        0.714932  0.701299  0.638655  0.762376  0.606299  0.72  0.604651   \n",
       "GB        0.058824  0.000000  0.000000  0.000000  0.000000  0.00  0.000000   \n",
       "NES       0.026018  0.012987  0.000000  0.000000  0.007874  0.00  0.007752   \n",
       "Wii       0.200226  0.285714  0.361345  0.237624  0.385827  0.28  0.387597   \n",
       "\n",
       "NA_Sales      0.07      0.08      0.09  ...  6.05  6.16  6.42  6.75  8.94  \\\n",
       "Platform                                ...                                 \n",
       "DS        0.683333  0.603448  0.649485  ...   0.0   0.0   1.0   0.0   0.0   \n",
       "GB        0.000000  0.000000  0.000000  ...   0.0   0.5   0.0   0.0   0.0   \n",
       "NES       0.000000  0.008621  0.000000  ...   0.0   0.0   0.0   0.0   0.0   \n",
       "Wii       0.316667  0.387931  0.350515  ...   1.0   0.5   0.0   1.0   1.0   \n",
       "\n",
       "NA_Sales    9  9.07  9.09  9.54  9.81  \n",
       "Platform                               \n",
       "DS        0.0   1.0   0.0   0.0   1.0  \n",
       "GB        1.0   0.0   0.0   0.0   0.0  \n",
       "NES       0.0   0.0   0.0   1.0   0.0  \n",
       "Wii       0.0   0.0   1.0   0.0   0.0  \n",
       "\n",
       "[4 rows x 223 columns]"
      ]
     },
     "execution_count": 20,
     "metadata": {},
     "output_type": "execute_result"
    }
   ],
   "source": [
    "pd.crosstab(df.Platform, df.NA_Sales, normalize='columns')"
   ]
  },
  {
   "cell_type": "code",
   "execution_count": 22,
   "metadata": {},
   "outputs": [
    {
     "data": {
      "text/html": [
       "<div>\n",
       "<style scoped>\n",
       "    .dataframe tbody tr th:only-of-type {\n",
       "        vertical-align: middle;\n",
       "    }\n",
       "\n",
       "    .dataframe tbody tr th {\n",
       "        vertical-align: top;\n",
       "    }\n",
       "\n",
       "    .dataframe thead th {\n",
       "        text-align: right;\n",
       "    }\n",
       "</style>\n",
       "<table border=\"1\" class=\"dataframe\">\n",
       "  <thead>\n",
       "    <tr style=\"text-align: right;\">\n",
       "      <th>NA_Sales</th>\n",
       "      <th>0</th>\n",
       "      <th>0.01</th>\n",
       "      <th>0.02</th>\n",
       "      <th>0.03</th>\n",
       "      <th>0.04</th>\n",
       "      <th>0.05</th>\n",
       "      <th>0.06</th>\n",
       "      <th>0.07</th>\n",
       "      <th>0.08</th>\n",
       "      <th>0.09</th>\n",
       "      <th>...</th>\n",
       "      <th>6.16</th>\n",
       "      <th>6.42</th>\n",
       "      <th>6.75</th>\n",
       "      <th>8.94</th>\n",
       "      <th>9</th>\n",
       "      <th>9.07</th>\n",
       "      <th>9.09</th>\n",
       "      <th>9.54</th>\n",
       "      <th>9.81</th>\n",
       "      <th>Total</th>\n",
       "    </tr>\n",
       "    <tr>\n",
       "      <th>Platform</th>\n",
       "      <th></th>\n",
       "      <th></th>\n",
       "      <th></th>\n",
       "      <th></th>\n",
       "      <th></th>\n",
       "      <th></th>\n",
       "      <th></th>\n",
       "      <th></th>\n",
       "      <th></th>\n",
       "      <th></th>\n",
       "      <th></th>\n",
       "      <th></th>\n",
       "      <th></th>\n",
       "      <th></th>\n",
       "      <th></th>\n",
       "      <th></th>\n",
       "      <th></th>\n",
       "      <th></th>\n",
       "      <th></th>\n",
       "      <th></th>\n",
       "      <th></th>\n",
       "    </tr>\n",
       "  </thead>\n",
       "  <tbody>\n",
       "    <tr>\n",
       "      <th>DS</th>\n",
       "      <td>632</td>\n",
       "      <td>54</td>\n",
       "      <td>76</td>\n",
       "      <td>77</td>\n",
       "      <td>77</td>\n",
       "      <td>90</td>\n",
       "      <td>78</td>\n",
       "      <td>82</td>\n",
       "      <td>70</td>\n",
       "      <td>63</td>\n",
       "      <td>...</td>\n",
       "      <td>0</td>\n",
       "      <td>1</td>\n",
       "      <td>0</td>\n",
       "      <td>0</td>\n",
       "      <td>0</td>\n",
       "      <td>1</td>\n",
       "      <td>0</td>\n",
       "      <td>0</td>\n",
       "      <td>1</td>\n",
       "      <td>2163</td>\n",
       "    </tr>\n",
       "    <tr>\n",
       "      <th>GB</th>\n",
       "      <td>52</td>\n",
       "      <td>0</td>\n",
       "      <td>0</td>\n",
       "      <td>0</td>\n",
       "      <td>0</td>\n",
       "      <td>0</td>\n",
       "      <td>0</td>\n",
       "      <td>0</td>\n",
       "      <td>0</td>\n",
       "      <td>0</td>\n",
       "      <td>...</td>\n",
       "      <td>1</td>\n",
       "      <td>0</td>\n",
       "      <td>0</td>\n",
       "      <td>0</td>\n",
       "      <td>1</td>\n",
       "      <td>0</td>\n",
       "      <td>0</td>\n",
       "      <td>0</td>\n",
       "      <td>0</td>\n",
       "      <td>98</td>\n",
       "    </tr>\n",
       "    <tr>\n",
       "      <th>NES</th>\n",
       "      <td>23</td>\n",
       "      <td>1</td>\n",
       "      <td>0</td>\n",
       "      <td>0</td>\n",
       "      <td>1</td>\n",
       "      <td>0</td>\n",
       "      <td>1</td>\n",
       "      <td>0</td>\n",
       "      <td>1</td>\n",
       "      <td>0</td>\n",
       "      <td>...</td>\n",
       "      <td>0</td>\n",
       "      <td>0</td>\n",
       "      <td>0</td>\n",
       "      <td>0</td>\n",
       "      <td>0</td>\n",
       "      <td>0</td>\n",
       "      <td>0</td>\n",
       "      <td>1</td>\n",
       "      <td>0</td>\n",
       "      <td>98</td>\n",
       "    </tr>\n",
       "    <tr>\n",
       "      <th>Wii</th>\n",
       "      <td>177</td>\n",
       "      <td>22</td>\n",
       "      <td>43</td>\n",
       "      <td>24</td>\n",
       "      <td>49</td>\n",
       "      <td>35</td>\n",
       "      <td>50</td>\n",
       "      <td>38</td>\n",
       "      <td>45</td>\n",
       "      <td>34</td>\n",
       "      <td>...</td>\n",
       "      <td>1</td>\n",
       "      <td>0</td>\n",
       "      <td>1</td>\n",
       "      <td>1</td>\n",
       "      <td>0</td>\n",
       "      <td>0</td>\n",
       "      <td>1</td>\n",
       "      <td>0</td>\n",
       "      <td>0</td>\n",
       "      <td>1325</td>\n",
       "    </tr>\n",
       "    <tr>\n",
       "      <th>Total</th>\n",
       "      <td>884</td>\n",
       "      <td>77</td>\n",
       "      <td>119</td>\n",
       "      <td>101</td>\n",
       "      <td>127</td>\n",
       "      <td>125</td>\n",
       "      <td>129</td>\n",
       "      <td>120</td>\n",
       "      <td>116</td>\n",
       "      <td>97</td>\n",
       "      <td>...</td>\n",
       "      <td>2</td>\n",
       "      <td>1</td>\n",
       "      <td>1</td>\n",
       "      <td>1</td>\n",
       "      <td>1</td>\n",
       "      <td>1</td>\n",
       "      <td>1</td>\n",
       "      <td>1</td>\n",
       "      <td>1</td>\n",
       "      <td>3684</td>\n",
       "    </tr>\n",
       "  </tbody>\n",
       "</table>\n",
       "<p>5 rows × 224 columns</p>\n",
       "</div>"
      ],
      "text/plain": [
       "NA_Sales    0  0.01  0.02  0.03  0.04  0.05  0.06  0.07  0.08  0.09  ...  \\\n",
       "Platform                                                             ...   \n",
       "DS        632    54    76    77    77    90    78    82    70    63  ...   \n",
       "GB         52     0     0     0     0     0     0     0     0     0  ...   \n",
       "NES        23     1     0     0     1     0     1     0     1     0  ...   \n",
       "Wii       177    22    43    24    49    35    50    38    45    34  ...   \n",
       "Total     884    77   119   101   127   125   129   120   116    97  ...   \n",
       "\n",
       "NA_Sales  6.16  6.42  6.75  8.94  9  9.07  9.09  9.54  9.81  Total  \n",
       "Platform                                                            \n",
       "DS           0     1     0     0  0     1     0     0     1   2163  \n",
       "GB           1     0     0     0  1     0     0     0     0     98  \n",
       "NES          0     0     0     0  0     0     0     1     0     98  \n",
       "Wii          1     0     1     1  0     0     1     0     0   1325  \n",
       "Total        2     1     1     1  1     1     1     1     1   3684  \n",
       "\n",
       "[5 rows x 224 columns]"
      ]
     },
     "execution_count": 22,
     "metadata": {},
     "output_type": "execute_result"
    }
   ],
   "source": [
    "pd.crosstab(df.Platform, df.NA_Sales, margins= True, margins_name=\"Total\")"
   ]
  },
  {
   "cell_type": "markdown",
   "metadata": {},
   "source": [
    "For the Two Way Table video game sales data, we can see rank and all sales as explanation variables and genre, platform, name as response variables. This is why all sales (which are used from the initial data, namely NA_Sales) are entered in columns (like the x-axis in a scatter diagram) and platforms in rows (like the y-axis in a scatter plot). We call Platform, genre, name and other response variables row variables because each horizontal row in the table describes a requirement or not met. NA_Sales is a column variable because each vertical column describes one NA_Sales group variable. Each combination of values for these two variables is called a cell."
   ]
  }
 ],
 "metadata": {
  "kernelspec": {
   "display_name": "Python 3 (ipykernel)",
   "language": "python",
   "name": "python3"
  },
  "language_info": {
   "codemirror_mode": {
    "name": "ipython",
    "version": 3
   },
   "file_extension": ".py",
   "mimetype": "text/x-python",
   "name": "python",
   "nbconvert_exporter": "python",
   "pygments_lexer": "ipython3",
   "version": "3.9.13"
  }
 },
 "nbformat": 4,
 "nbformat_minor": 4
}
